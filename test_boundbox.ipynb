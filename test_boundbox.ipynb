{
 "cells": [
  {
   "cell_type": "code",
   "execution_count": 1,
   "metadata": {},
   "outputs": [],
   "source": [
    "import pandas as pd"
   ]
  },
  {
   "cell_type": "code",
   "execution_count": 35,
   "metadata": {},
   "outputs": [
    {
     "name": "stdout",
     "output_type": "stream",
     "text": [
      "x: [13.67200375]\n",
      "y: [-115.7228353]\n"
     ]
    }
   ],
   "source": [
    "boundbox_path = \"/Data/ContijochLab/projects/autoseg/data/boundbox.csv\"\n",
    "bbdata = pd.read_csv(boundbox_path)\n",
    "bbrow = bbdata[bbdata['Name'].str.match(\"CTCAC190606\")]\n",
    "print(\"x: \" + str(0.5*(bbrow['E1']+bbrow['E2']).to_numpy()))\n",
    "print(\"y: \" + str(bbrow['E3'].to_numpy()))"
   ]
  },
  {
   "cell_type": "code",
   "execution_count": null,
   "metadata": {},
   "outputs": [],
   "source": []
  }
 ],
 "metadata": {
  "kernelspec": {
   "display_name": "Python 3",
   "language": "python",
   "name": "python3"
  },
  "language_info": {
   "codemirror_mode": {
    "name": "ipython",
    "version": 3
   },
   "file_extension": ".py",
   "mimetype": "text/x-python",
   "name": "python",
   "nbconvert_exporter": "python",
   "pygments_lexer": "ipython3",
   "version": "3.7.3"
  }
 },
 "nbformat": 4,
 "nbformat_minor": 2
}
