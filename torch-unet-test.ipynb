{
 "cells": [
  {
   "cell_type": "code",
   "execution_count": 1,
   "metadata": {},
   "outputs": [],
   "source": [
    "## Import\n",
    "from __future__ import print_function\n",
    "from utils.dataset import BasicDataset\n",
    "from utils.patient import Patient\n",
    "import torch\n",
    "from torch.utils.data import DataLoader\n",
    "from torch import optim\n",
    "import torch.nn as nn\n",
    "import torch.nn.functional as F\n",
    "from unet.unet_model import UNet\n",
    "import numpy as np\n",
    "import matplotlib.pyplot as plt\n",
    "import time\n"
   ]
  },
  {
   "cell_type": "code",
   "execution_count": 2,
   "metadata": {},
   "outputs": [],
   "source": [
    "def bool_to_float(v):\n",
    "    if v == True:\n",
    "        return 1\n",
    "    elif v == False:\n",
    "        return 0\n",
    "    else:\n",
    "        return v"
   ]
  },
  {
   "cell_type": "code",
   "execution_count": 3,
   "metadata": {},
   "outputs": [
    {
     "ename": "FileNotFoundError",
     "evalue": "[Errno 2] No such file or directory: 'C:/Users/brend/Data/autoseg/train/img/'",
     "output_type": "error",
     "traceback": [
      "\u001b[0;31m---------------------------------------------------------------------------\u001b[0m",
      "\u001b[0;31mFileNotFoundError\u001b[0m                         Traceback (most recent call last)",
      "\u001b[0;32m<ipython-input-3-ffb12da81d90>\u001b[0m in \u001b[0;36m<module>\u001b[0;34m\u001b[0m\n\u001b[1;32m      8\u001b[0m \u001b[0msegpath\u001b[0m \u001b[0;34m=\u001b[0m \u001b[0;34m\"C:/Users/brend/Data/autoseg/train/seg/\"\u001b[0m\u001b[0;34m\u001b[0m\u001b[0;34m\u001b[0m\u001b[0m\n\u001b[1;32m      9\u001b[0m \u001b[0;34m\u001b[0m\u001b[0m\n\u001b[0;32m---> 10\u001b[0;31m \u001b[0mfls\u001b[0m \u001b[0;34m=\u001b[0m \u001b[0mos\u001b[0m\u001b[0;34m.\u001b[0m\u001b[0mlistdir\u001b[0m\u001b[0;34m(\u001b[0m\u001b[0mimgpath\u001b[0m\u001b[0;34m)\u001b[0m\u001b[0;34m\u001b[0m\u001b[0;34m\u001b[0m\u001b[0m\n\u001b[0m\u001b[1;32m     11\u001b[0m \u001b[0;34m\u001b[0m\u001b[0m\n\u001b[1;32m     12\u001b[0m \u001b[0mdataset\u001b[0m \u001b[0;34m=\u001b[0m \u001b[0mBasicDataset\u001b[0m\u001b[0;34m(\u001b[0m\u001b[0mimgpath\u001b[0m\u001b[0;34m,\u001b[0m\u001b[0msegpath\u001b[0m\u001b[0;34m,\u001b[0m\u001b[0mdata_device\u001b[0m\u001b[0;34m=\u001b[0m\u001b[0;34m'cuda'\u001b[0m \u001b[0;32mif\u001b[0m \u001b[0mtorch\u001b[0m\u001b[0;34m.\u001b[0m\u001b[0mcuda\u001b[0m\u001b[0;34m.\u001b[0m\u001b[0mis_available\u001b[0m\u001b[0;34m(\u001b[0m\u001b[0;34m)\u001b[0m \u001b[0;32melse\u001b[0m \u001b[0;34m'cpu'\u001b[0m\u001b[0;34m)\u001b[0m\u001b[0;34m\u001b[0m\u001b[0;34m\u001b[0m\u001b[0m\n",
      "\u001b[0;31mFileNotFoundError\u001b[0m: [Errno 2] No such file or directory: 'C:/Users/brend/Data/autoseg/train/img/'"
     ]
    }
   ],
   "source": [
    "## Define Dataset\n",
    "\n",
    "import os\n",
    "\n",
    "\n",
    "\n",
    "imgpath = \"C:/Users/brend/Data/autoseg/train/img/\"\n",
    "segpath = \"C:/Users/brend/Data/autoseg/train/seg/\"\n",
    "\n",
    "fls = os.listdir(imgpath)\n",
    "\n",
    "dataset = BasicDataset(imgpath,segpath,data_device='cuda' if torch.cuda.is_available() else 'cpu')\n",
    "\n"
   ]
  },
  {
   "cell_type": "code",
   "execution_count": null,
   "metadata": {},
   "outputs": [],
   "source": [
    "## Define Data Loader\n",
    "batch_size = 5\n",
    "loader = DataLoader(dataset,batch_size = batch_size)\n"
   ]
  },
  {
   "cell_type": "code",
   "execution_count": null,
   "metadata": {},
   "outputs": [],
   "source": [
    "## Parameters\n",
    "n_channels = 1\n",
    "n_classes = dataset.__nclass__()\n",
    "lr = 0.001\n",
    "wd = 1e-8\n",
    "mm = 0.9\n",
    "ep = 100\n"
   ]
  },
  {
   "cell_type": "code",
   "execution_count": null,
   "metadata": {},
   "outputs": [],
   "source": [
    "## Define Net\n",
    "net = UNet(n_channels=n_channels, n_classes=n_classes+1)\n",
    "net.to(device=dataset.dev)\n"
   ]
  },
  {
   "cell_type": "code",
   "execution_count": null,
   "metadata": {},
   "outputs": [],
   "source": [
    "## Set up Optimizer\n",
    "\n",
    "optimizer = optim.RMSprop(net.parameters(),lr = lr, weight_decay = wd, momentum = mm)\n",
    "critereon = nn.CrossEntropyLoss()    \n"
   ]
  },
  {
   "cell_type": "code",
   "execution_count": null,
   "metadata": {},
   "outputs": [],
   "source": [
    "## Train or Load\n",
    "\n",
    "loadnet = False\n",
    "\n",
    "if not loadnet:\n",
    "\n",
    "    for epoch in range(ep):\n",
    "        net.train()\n",
    "        epoch_loss = 0\n",
    "        for batch in loader:\n",
    "            imgs = batch['img']\n",
    "            segs_gt = batch['seg']\n",
    "\n",
    "            imgs = imgs.to(device=dataset.dev, dtype=torch.float32)\n",
    "            segs_gt = segs_gt.to(device=dataset.dev, dtype = torch.long)\n",
    "\n",
    "            segs_pr = net(imgs)\n",
    "\n",
    "            loss = critereon(segs_pr,segs_gt)\n",
    "            epoch_loss += loss.item()\n",
    "\n",
    "            optimizer.zero_grad()\n",
    "            loss.backward()\n",
    "            nn.utils.clip_grad_value_(net.parameters(),0.1)\n",
    "            optimizer.step()\n",
    "\n",
    "            print(str(loss))\n",
    "else:\n",
    "    loadfile = \"C:/Users/brend/Data/autoseg/unet-save.pth\"\n",
    "    net.load_state_dict(torch.load(loadfile, map_location=dataset.dev))\n"
   ]
  },
  {
   "cell_type": "code",
   "execution_count": null,
   "metadata": {},
   "outputs": [],
   "source": [
    "## Save Net\n",
    "savefile = \"C:/Users/brend/Data/autoseg/unet-save.pth\"\n",
    "torch.save(net.state_dict(),savefile)"
   ]
  },
  {
   "cell_type": "code",
   "execution_count": null,
   "metadata": {},
   "outputs": [],
   "source": [
    "## Probability maps\n",
    "net.eval()\n",
    "\n",
    "testloader = DataLoader(dataset,batch_size=1)\n",
    "\n",
    "for testbatch in testloader:\n",
    "    testimgs, testsegs_gt = testbatch['img'],testbatch['seg']\n",
    "    \n",
    "    with torch.no_grad():\n",
    "        testsegs_pr = net(testimgs)\n",
    "    testsegs_pr = torch.softmax(testsegs_pr,dim=1)\n",
    "    _,testsegs_cl = torch.max(testsegs_pr,dim=1)\n",
    "    testsegs_pr = testsegs_pr.to(device='cpu')\n",
    "    testsegs_cl = testsegs_cl.to(device='cpu')\n",
    "    fig1,ax1 = plt.subplots(3,4)\n",
    "    fig1.set_figwidth(20)\n",
    "    fig1.set_figheight(14)\n",
    "    for axInd in range(n_classes):        \n",
    "        if axInd < 4:\n",
    "            ax1[0,axInd%4].imshow(testsegs_pr[0,axInd+1,:,:].numpy(),vmin = 0, vmax = 1)\n",
    "        elif axInd < 8:\n",
    "            ax1[1,axInd%4].imshow(testsegs_pr[0,axInd+1,:,:].numpy(),vmin = 0, vmax = 1)\n",
    "        else:\n",
    "            ax1[2,axInd%4].imshow(testsegs_pr[0,axInd+1,:,:].numpy(),vmin = 0, vmax = 1)\n",
    "            \n",
    "    fig2,ax2 = plt.subplots(3,4)\n",
    "    fig2.set_figwidth(20)\n",
    "    fig2.set_figheight(14)\n",
    "    for axInd in range(n_classes):\n",
    "#         X = (testsegs_cl[0,:,:].numpy()>(axInd+1-0.1) & testsegs_cl[0,:,:].numpy()<(axInd+1+0.1))\n",
    "        X = testsegs_cl[0,:,:].numpy() == (axInd+1)\n",
    "        X = X.astype(np.float)\n",
    "        if axInd < 4:\n",
    "            ax2[0,axInd%4].imshow(X,vmin = 0, vmax = 1)\n",
    "        elif axInd < 8:\n",
    "            ax2[1,axInd%4].imshow(X,vmin = 0, vmax = 1)\n",
    "        else:\n",
    "            ax2[2,axInd%4].imshow(X,vmin = 0, vmax = 1)\n",
    "\n",
    "        "
   ]
  },
  {
   "cell_type": "code",
   "execution_count": null,
   "metadata": {
    "scrolled": true
   },
   "outputs": [],
   "source": [
    "## Test Net on Training Data\n",
    "\n",
    "net.eval()\n",
    "\n",
    "tot = 0\n",
    "\n",
    "testloader = DataLoader(dataset,batch_size=1)\n",
    "\n",
    "for testbatch in testloader:\n",
    "    testimgs, testsegs_gt = testbatch['img'],testbatch['seg']\n",
    "    \n",
    "    with torch.no_grad():\n",
    "        testsegs_pr = net(testimgs)\n",
    "    \n",
    "    _,testsegs_cl = torch.max(testsegs_pr,dim=1)\n",
    "    \n",
    "    testimgs = testimgs.to(device='cpu')\n",
    "    testsegs_gt = testsegs_gt.to(device='cpu')\n",
    "    testsegs_cl = testsegs_cl.to(device='cpu')\n",
    "    \n",
    "    fig, ax = plt.subplots(1, 3)\n",
    "    fig.set_figwidth(15)\n",
    "    ax[0].imshow(testimgs[0,0,:,:].numpy(),vmin = -1000, vmax=1000)\n",
    "    ax[1].imshow(testsegs_gt[0,:,:].numpy(),vmin = 0, vmax = 12)\n",
    "    ax[2].imshow(testsegs_cl[0,:,:].numpy(),vmin = 0, vmax = 12)\n",
    "    plt.show(fig)\n",
    "    \n",
    "    plt.show(fig)\n",
    "    time.sleep(0.01)\n",
    "\n"
   ]
  },
  {
   "cell_type": "code",
   "execution_count": null,
   "metadata": {},
   "outputs": [],
   "source": [
    "## Load Patient and Predict\n",
    "\n",
    "# pat_file = \"/Data/ContijochLab/projects/autoseg/predict/CTCAC1901281601/img-nii/CTCAC1901281601.nii.gz\"\n",
    "# seg_file = \"/Data/ContijochLab/projects/autoseg/predict/CTCAC1901281601/s04-nii/CTCAC1901281601.nii.gz\"\n",
    "\n",
    "# pat_file = \"/Data/ContijochLab/projects/autoseg/predict/CTCAC1901281608/img-nii/CTCAC1901281608.nii.gz\"\n",
    "# seg_file = \"/Data/ContijochLab/projects/autoseg/predict/CTCAC1901281608/s04-nii/CTCAC1901281608.nii.gz\"\n",
    "\n",
    "# pat_file = \"/Data/ContijochLab/projects/autoseg/predict/CTCAC1903181826/img-nii/CTCAC1903181826.nii.gz\"\n",
    "# seg_file = \"/Data/ContijochLab/projects/autoseg/predict/CTCAC1903181826/s04-nii/CTCAC1903181826.nii.gz\"\n",
    "\n",
    "# pat_file = \"/Data/ContijochLab/projects/autoseg/predict/CTCAC1906061647/img-nii/CTCAC1906061647.nii.gz\"\n",
    "# seg_file = \"/Data/ContijochLab/projects/autoseg/predict/CTCAC1906061647/s04-nii/CTCAC1906061647.nii.gz\"\n",
    "\n",
    "# pat_file = \"/Data/ContijochLab/projects/autoseg/predict/CTCAC1906071329/img-nii/CTCAC1906071329.nii.gz\"\n",
    "# seg_file = \"/Data/ContijochLab/projects/autoseg/predict/CTCAC1906071329/s04-nii/CTCAC1906071329.nii.gz\"\n",
    "\n",
    "pat_file = \"/Data/ContijochLab/projects/autoseg/predict/CTCAC1906071741/img-nii/CTCAC1906071741.nii.gz\"\n",
    "seg_file = \"/Data/ContijochLab/projects/autoseg/predict/CTCAC1906071741/s04-nii/CTCAC1906071741.nii.gz\"\n",
    "\n",
    "patient = Patient(pat_file,data_device='cuda' if torch.cuda.is_available() else 'cpu')\n",
    "\n",
    "patient.predict(net,seg_file,batch_size=5)"
   ]
  },
  {
   "cell_type": "code",
   "execution_count": null,
   "metadata": {},
   "outputs": [],
   "source": [
    "float(True)"
   ]
  },
  {
   "cell_type": "code",
   "execution_count": null,
   "metadata": {},
   "outputs": [],
   "source": []
  }
 ],
 "metadata": {
  "kernelspec": {
   "display_name": "Python 3",
   "language": "python",
   "name": "python3"
  },
  "language_info": {
   "codemirror_mode": {
    "name": "ipython",
    "version": 3
   },
   "file_extension": ".py",
   "mimetype": "text/x-python",
   "name": "python",
   "nbconvert_exporter": "python",
   "pygments_lexer": "ipython3",
   "version": "3.7.3"
  }
 },
 "nbformat": 4,
 "nbformat_minor": 2
}
